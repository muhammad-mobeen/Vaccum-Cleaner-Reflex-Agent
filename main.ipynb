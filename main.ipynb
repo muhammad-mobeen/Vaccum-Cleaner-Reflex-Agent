{
 "cells": [
  {
   "cell_type": "markdown",
   "metadata": {},
   "source": [
    "<h1 align=\"center\">Title: Vaccum Cleaner Reflex Agent Problem</h1>\n",
    "<p>Name: Muhammad Mobeen<br>\n",
    "Reg No: 200901097<br>\n",
    "BS-CS-01(B)<br>\n",
    "Artificial Intelligence Lab3 Tasks [3 March 23]<br>\n",
    "Github URL: <a href=\"https://github.com/muhammad-mobeen/Vaccum-Cleaner-Reflex-Agent\">github.com/muhammad-mobeen/Vaccum-Cleaner-Reflex-Agent</a><br>\n",
    "Submitted to Mam Reeda Saeed</p>"
   ]
  },
  {
   "cell_type": "code",
   "execution_count": 4,
   "metadata": {},
   "outputs": [],
   "source": [
    "class Room:\n",
    "    def __init__(self, name, state, adj_room_idxs=None):\n",
    "        self.name = name\n",
    "        self.state = state\n",
    "        self.adj_room_idxs = adj_room_idxs\n",
    "\n",
    "class VaccumCleaner:\n",
    "    def __init__(self):\n",
    "        self.state = None\n",
    "        self.state_sequence = []\n",
    "        self.path_cost = None\n",
    "        self.clean_cost = None\n",
    "\n",
    "        self.explore_sequence = None\n",
    "\n",
    "    def is_goal(self):\n",
    "        for i in self.state_sequence:\n",
    "            if i.state == 1:\n",
    "                return False\n",
    "        return True\n",
    "\n",
    "    def sensing_environment(self):\n",
    "        '''Implements Depth First Search Algorithm on the generated graph.'''\n",
    "        frontier = []\n",
    "        explored = []\n",
    "        # if self.state_sequence[self.state].state == 1:\n",
    "        frontier.append(self.state)\n",
    "\n",
    "        while len(frontier) > 0:\n",
    "            room = frontier.pop()\n",
    "            if self.state_sequence[room].adj_room_idxs is not None:\n",
    "                for i in self.state_sequence[room].adj_room_idxs:\n",
    "                    if i not in frontier and i not in explored:\n",
    "                        frontier.append(i)\n",
    "            explored.append(room)\n",
    "\n",
    "        self.explore_sequence = explored\n",
    "\n",
    "    def start_cleaning(self):\n",
    "        cost = 0\n",
    "        for i,x in enumerate(self.explore_sequence):\n",
    "            print(\"[{}] Vaccum Cleaner is at location: {}\\nRoom {} is \".format(i+1, self.state_sequence[x].name, self.state_sequence[x].name), end=\"\")\n",
    "            print(\"Clean.\" if self.state_sequence[x].state == 0 else \"Dirty.\")\n",
    "            if self.state_sequence[x].state == 1:\n",
    "                print(\"Cleaning Room: {} at cost of {}\".format(self.state_sequence[x].name, self.clean_cost))\n",
    "                self.state_sequence[x].state = 0\n",
    "                cost += self.clean_cost\n",
    "                print(\"Room: {} cleaned successfully!\".format(self.state_sequence[x].name))\n",
    "            print(\"Cost till now: {}\\n\".format(cost))\n",
    "            if i < len(self.explore_sequence)-1:\n",
    "                cost += self.path_cost\n",
    "                print(\"Going to next room >>>>>>>>\\n\\n\")\n",
    "            else:\n",
    "                print(\"It was the last room!\\n\\nChecking if goal state reached?: {}\".format(\"Yes\" if self.is_goal() else \"No\"))\n",
    "            \n",
    "        print(\"Total cost of cleaning all the rooms: {}\\n\".format(cost))\n",
    "\n",
    "        print(\"Room sequence followed by the Vaccum Cleaner: \",end=\"\")\n",
    "        for x,i in enumerate(self.explore_sequence):\n",
    "            if x < len(self.explore_sequence)-1:    \n",
    "                print(\"{} >> \".format(self.state_sequence[i].name),end=\"\")\n",
    "            else:\n",
    "                print(\"{}\".format(self.state_sequence[i].name))\n",
    "\n",
    "    def get_user_input(self):\n",
    "        print(\"How many rooms you want to enter?: \",end=\"\")\n",
    "        no_rooms = int(input())\n",
    "        for i in range(no_rooms):\n",
    "            print(\"\\n\\nEnter data of Room #{}\".format(i))\n",
    "            print(\"   Enter room name: \",end=\"\")\n",
    "            name = input()\n",
    "            print(\"\\n   Enter room state dirty or clean? (1/0): \",end=\"\")\n",
    "            state = int(input())\n",
    "            print(\"\\n   Enter neighbouring rooms seperated by commas: \",end=\"\")\n",
    "            neighbours = input()\n",
    "            neighbours_list = [int(x) for x in neighbours.split(\",\")]\n",
    "            self.state_sequence.append(Room(name,state,neighbours_list))\n",
    "        \n",
    "        print(\"Vaccum starts from which room?: \",end=\"\")\n",
    "        self.state = int(input())\n",
    "        print(\"\\nWhat is path travelling cost?: \",end=\"\")\n",
    "        self.path_cost = int(input())\n",
    "        print(\"\\nWhat is cleaning cost?: \",end=\"\")\n",
    "        self.clean_cost = int(input())"
   ]
  },
  {
   "cell_type": "code",
   "execution_count": 5,
   "metadata": {},
   "outputs": [],
   "source": [
    "# rooms = [\n",
    "#     Room('A',1,[1]),\n",
    "#     Room('B',1,[0,2]),\n",
    "#     Room('C',1,[1])\n",
    "# ]"
   ]
  },
  {
   "cell_type": "code",
   "execution_count": 6,
   "metadata": {},
   "outputs": [
    {
     "name": "stdout",
     "output_type": "stream",
     "text": [
      "How many rooms you want to enter?: 3\n",
      "\n",
      "\n",
      "Enter data of Room #0\n",
      "   Enter room name: A\n",
      "\n",
      "   Enter room state dirty or clean? (1/0): 1\n",
      "\n",
      "   Enter neighbouring rooms seperated by commas: 1\n",
      "\n",
      "\n",
      "Enter data of Room #1\n",
      "   Enter room name: B\n",
      "\n",
      "   Enter room state dirty or clean? (1/0): 1\n",
      "\n",
      "   Enter neighbouring rooms seperated by commas: 0,2\n",
      "\n",
      "\n",
      "Enter data of Room #2\n",
      "   Enter room name: C\n",
      "\n",
      "   Enter room state dirty or clean? (1/0): 1\n",
      "\n",
      "   Enter neighbouring rooms seperated by commas: 1\n",
      "Vaccum starts from which room?: 1\n",
      "\n",
      "What is path travelling cost?: 1\n",
      "\n",
      "What is cleaning cost?: 1\n"
     ]
    }
   ],
   "source": [
    "agent = VaccumCleaner()\n",
    "agent.get_user_input()\n",
    "agent.sensing_environment()"
   ]
  },
  {
   "cell_type": "code",
   "execution_count": 7,
   "metadata": {},
   "outputs": [
    {
     "name": "stdout",
     "output_type": "stream",
     "text": [
      "[1] Vaccum Cleaner is at location: B\n",
      "Room B is Dirty.\n",
      "Cleaning Room: B at cost of 1\n",
      "Room: B cleaned successfully!\n",
      "Cost till now: 1\n",
      "\n",
      "Going to next room >>>>>>>>\n",
      "\n",
      "\n",
      "[2] Vaccum Cleaner is at location: C\n",
      "Room C is Dirty.\n",
      "Cleaning Room: C at cost of 1\n",
      "Room: C cleaned successfully!\n",
      "Cost till now: 3\n",
      "\n",
      "Going to next room >>>>>>>>\n",
      "\n",
      "\n",
      "[3] Vaccum Cleaner is at location: A\n",
      "Room A is Dirty.\n",
      "Cleaning Room: A at cost of 1\n",
      "Room: A cleaned successfully!\n",
      "Cost till now: 5\n",
      "\n",
      "It was the last room!\n",
      "\n",
      "Checking if goal state reached?: Yes\n",
      "Total cost of cleaning all the rooms: 5\n",
      "\n",
      "Room sequence followed by the Vaccum Cleaner: B >> C >> A\n"
     ]
    }
   ],
   "source": [
    "agent.start_cleaning()"
   ]
  }
 ],
 "metadata": {
  "kernelspec": {
   "display_name": "Python 3",
   "language": "python",
   "name": "python3"
  },
  "language_info": {
   "codemirror_mode": {
    "name": "ipython",
    "version": 3
   },
   "file_extension": ".py",
   "mimetype": "text/x-python",
   "name": "python",
   "nbconvert_exporter": "python",
   "pygments_lexer": "ipython3",
   "version": "3.8.8"
  },
  "vscode": {
   "interpreter": {
    "hash": "6fe7c4f14ba57f800ed0a8c310d3d00a62ac00e71da74ba598c9bcf0bb8327b5"
   }
  }
 },
 "nbformat": 4,
 "nbformat_minor": 2
}
